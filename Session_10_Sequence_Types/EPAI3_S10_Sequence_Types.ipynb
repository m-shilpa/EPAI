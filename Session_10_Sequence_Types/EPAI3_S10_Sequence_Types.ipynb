{
  "nbformat": 4,
  "nbformat_minor": 0,
  "metadata": {
    "colab": {
      "name": "EPAI3 S10 Sequence Types.ipynb",
      "provenance": [],
      "collapsed_sections": [],
      "authorship_tag": "ABX9TyN5HOVueugp5q5YmOa4NI6w",
      "include_colab_link": true
    },
    "kernelspec": {
      "name": "python3",
      "display_name": "Python 3"
    },
    "language_info": {
      "name": "python"
    }
  },
  "cells": [
    {
      "cell_type": "markdown",
      "metadata": {
        "id": "view-in-github",
        "colab_type": "text"
      },
      "source": [
        "<a href=\"https://colab.research.google.com/github/m-shilpa/EPAI/blob/main/Session_10_Sequence_Types/EPAI3_S10_Sequence_Types.ipynb\" target=\"_parent\"><img src=\"https://colab.research.google.com/assets/colab-badge.svg\" alt=\"Open In Colab\"/></a>"
      ]
    },
    {
      "cell_type": "markdown",
      "metadata": {
        "id": "hW639rJ_x-SK"
      },
      "source": [
        "#**Sequence Types**"
      ]
    },
    {
      "cell_type": "code",
      "metadata": {
        "id": "FR52wRky3sE8"
      },
      "source": [
        "import math\n",
        "from functools import wraps,lru_cache\n",
        "from collections import namedtuple"
      ],
      "execution_count": 1,
      "outputs": []
    },
    {
      "cell_type": "code",
      "metadata": {
        "id": "13MkVH-IHpag"
      },
      "source": [
        "def validate_type(d_type):\n",
        "    def validate(fn):\n",
        "        @wraps(fn)\n",
        "        def inner(*args,**kwargs):\n",
        "            for i in args:\n",
        "                if isinstance(i, d_type) == False:\n",
        "                    return  \"Error: Incorrect Parameter types\"\n",
        "            return fn(*args,**kwargs)\n",
        "        return inner\n",
        "    return validate\n"
      ],
      "execution_count": 2,
      "outputs": []
    },
    {
      "cell_type": "code",
      "metadata": {
        "id": "4Y_sVIqnk9fK"
      },
      "source": [
        "def validate_params(poly_class):\n",
        "    \"\"\" This function validates the parameters passed to Polygon_Sequence Class \"\"\"\n",
        "\n",
        "    @wraps(poly_class)\n",
        "    def inner(num,circumradius):\n",
        "        \"\"\" This Decorator checks if the circumradius <= 0 or num <3  \"\"\"\n",
        "\n",
        "        if circumradius <= 0 or num <3 :\n",
        "            return  \"Error: Incorrect parameters for Class\"\n",
        "        else:\n",
        "            return poly_class(num,circumradius)\n",
        "    return inner"
      ],
      "execution_count": 3,
      "outputs": []
    },
    {
      "cell_type": "markdown",
      "metadata": {
        "id": "42d9be9YzZBH"
      },
      "source": [
        "# **Polygon Class**"
      ]
    },
    {
      "cell_type": "code",
      "metadata": {
        "id": "uGJ668xsR964"
      },
      "source": [
        "@validate_type(int)\n",
        "@validate_params\n",
        "class Polygon:\n",
        "    \"\"\" A Polygon Class \"\"\"\n",
        "\n",
        "    def __init__(self,n_vertices,circumradius):\n",
        "        \"\"\" Initialize the vertices, circumradius, interiorAngle, edgeLength , apothem, area, perimeter. \"\"\"\n",
        "\n",
        "        self.n_vertices = n_vertices\n",
        "        self.circumradius = circumradius\n",
        "        self.interiorAngle = self.calc_interiorAngle()\n",
        "        self.edgeLength  = self.calc_edgeLength() \n",
        "        self.apothem = self.calc_apothem()       \n",
        "        self.area = self.calc_area()    \n",
        "        self.perimeter = self.calc_perimeter()\n",
        "    \n",
        "    def calc_interiorAngle(self):\n",
        "        \"\"\" This function calculates the Interior Angle of the polygon. \"\"\"\n",
        "        \n",
        "        return (self.n_vertices - 2) * (180/self.n_vertices)\n",
        "    \n",
        "    def calc_edgeLength(self):\n",
        "        \"\"\" This function calculates the Edge Length of the polygon. \"\"\"\n",
        "\n",
        "        return 2*self.circumradius * math.sin(math.pi/self.n_vertices)\n",
        "\n",
        "    def calc_apothem(self):\n",
        "        \"\"\" This function calculates the Apothem of the polygon. \"\"\"\n",
        "\n",
        "        return self.circumradius * math.cos(math.pi / self.n_vertices)\n",
        "    \n",
        "    def calc_area(self):\n",
        "        \"\"\" This function calculates the Area of the polygon. \"\"\"\n",
        "\n",
        "        s = self.calc_edgeLength() \n",
        "        a = self.calc_apothem()\n",
        "        return (1/2) * self.n_vertices * s * a\n",
        "    \n",
        "    def calc_perimeter(self):\n",
        "        \"\"\" This function calculates the Perimeter of the polygon. \"\"\"\n",
        "\n",
        "        s = self.calc_edgeLength() \n",
        "        return self.n_vertices * s\n",
        "\n",
        "    def __eq__(self,other):\n",
        "        \"\"\" This function checks if the polygon is equal to the other polygon or not \n",
        "            If the vertices and circum radius of this polygon is equal to the other then it returns True else returns False.\n",
        "        \"\"\"\n",
        "\n",
        "        return self.n_vertices == other.n_vertices and self.circumradius == other.circumradius\n",
        "\n",
        "    def __gt__(self,other):\n",
        "        \"\"\" This function checks if the polygon is greater than the other polygon or not.\n",
        "            If this polygon has a larger number of vertices than the other polygon then this function return True else return False\n",
        "        \"\"\"\n",
        "\n",
        "        return self.n_vertices > other.n_vertices\n",
        "    \n",
        "    def __repr__(self):\n",
        "        \"\"\" A function to gives the details of the polygon object. \"\"\"\n",
        "\n",
        "        return f\"\"\" A Polygon with the following properties: \\n No. of Vertices: {self.n_vertices} \\n CircumRadius:{self.circumradius} \\n Interior Angle: {self.interiorAngle} \\n Edge Length: {self.edgeLength}  \\n Apothem: {self.apothem}\\n Area: {self.area}\\n Perimeter: {self.perimeter} \"\"\"\n",
        "  \n",
        "  \n"
      ],
      "execution_count": 4,
      "outputs": []
    },
    {
      "cell_type": "code",
      "metadata": {
        "colab": {
          "base_uri": "https://localhost:8080/",
          "height": 35
        },
        "id": "ZM-3GvKJIDj3",
        "outputId": "b1e5c7fe-cd45-4d51-9bfb-0d1ef490f327"
      },
      "source": [
        "Polygon.__doc__"
      ],
      "execution_count": 5,
      "outputs": [
        {
          "output_type": "execute_result",
          "data": {
            "application/vnd.google.colaboratory.intrinsic+json": {
              "type": "string"
            },
            "text/plain": [
              "' A Polygon Class '"
            ]
          },
          "metadata": {
            "tags": []
          },
          "execution_count": 5
        }
      ]
    },
    {
      "cell_type": "code",
      "metadata": {
        "id": "_K5F0fb5YGmu"
      },
      "source": [
        "poly1 = Polygon(3,5)"
      ],
      "execution_count": 6,
      "outputs": []
    },
    {
      "cell_type": "code",
      "metadata": {
        "colab": {
          "base_uri": "https://localhost:8080/"
        },
        "id": "ER01w3gHYQmc",
        "outputId": "f591cd65-3f9e-4622-efa2-e4616f844f60"
      },
      "source": [
        "poly1"
      ],
      "execution_count": 7,
      "outputs": [
        {
          "output_type": "execute_result",
          "data": {
            "text/plain": [
              " A Polygon with the following properties: \n",
              " No. of Vertices: 3 \n",
              " CircumRadius:5 \n",
              " Interior Angle: 60.0 \n",
              " Edge Length: 8.660254037844386  \n",
              " Apothem: 2.5000000000000004\n",
              " Area: 32.47595264191645\n",
              " Perimeter: 25.980762113533157 "
            ]
          },
          "metadata": {
            "tags": []
          },
          "execution_count": 7
        }
      ]
    },
    {
      "cell_type": "code",
      "metadata": {
        "id": "7AkNTlKSYRld"
      },
      "source": [
        "poly2 = Polygon(3,5)"
      ],
      "execution_count": 8,
      "outputs": []
    },
    {
      "cell_type": "code",
      "metadata": {
        "colab": {
          "base_uri": "https://localhost:8080/"
        },
        "id": "Z6-0MtwQYbPS",
        "outputId": "4e7495a5-cd6a-4508-c199-ec5065086efb"
      },
      "source": [
        "poly1 == poly2"
      ],
      "execution_count": 9,
      "outputs": [
        {
          "output_type": "execute_result",
          "data": {
            "text/plain": [
              "True"
            ]
          },
          "metadata": {
            "tags": []
          },
          "execution_count": 9
        }
      ]
    },
    {
      "cell_type": "code",
      "metadata": {
        "id": "_HD4FBsmYdE-"
      },
      "source": [
        "poly3 = Polygon(5,5)"
      ],
      "execution_count": 10,
      "outputs": []
    },
    {
      "cell_type": "code",
      "metadata": {
        "colab": {
          "base_uri": "https://localhost:8080/"
        },
        "id": "T0DMX40hYk6q",
        "outputId": "057d97b3-cff4-42b9-a4ef-80f92dff8a57"
      },
      "source": [
        "poly1 == poly3"
      ],
      "execution_count": 11,
      "outputs": [
        {
          "output_type": "execute_result",
          "data": {
            "text/plain": [
              "False"
            ]
          },
          "metadata": {
            "tags": []
          },
          "execution_count": 11
        }
      ]
    },
    {
      "cell_type": "code",
      "metadata": {
        "colab": {
          "base_uri": "https://localhost:8080/"
        },
        "id": "V-rV0uUHYmc4",
        "outputId": "f0311060-d0a3-49f2-a0d4-5e9e8e654ef6"
      },
      "source": [
        "poly1 > poly3"
      ],
      "execution_count": 12,
      "outputs": [
        {
          "output_type": "execute_result",
          "data": {
            "text/plain": [
              "False"
            ]
          },
          "metadata": {
            "tags": []
          },
          "execution_count": 12
        }
      ]
    },
    {
      "cell_type": "code",
      "metadata": {
        "colab": {
          "base_uri": "https://localhost:8080/",
          "height": 35
        },
        "id": "wHe3RQs-Hswf",
        "outputId": "4bdf2f4f-1e24-42a2-c628-eeb4cbf7148a"
      },
      "source": [
        "p = Polygon(0,0)\n",
        "p"
      ],
      "execution_count": 13,
      "outputs": [
        {
          "output_type": "execute_result",
          "data": {
            "application/vnd.google.colaboratory.intrinsic+json": {
              "type": "string"
            },
            "text/plain": [
              "'Error: Incorrect parameters for Class'"
            ]
          },
          "metadata": {
            "tags": []
          },
          "execution_count": 13
        }
      ]
    },
    {
      "cell_type": "code",
      "metadata": {
        "colab": {
          "base_uri": "https://localhost:8080/",
          "height": 35
        },
        "id": "m7ezwxUSH1eO",
        "outputId": "e8d84cc9-cd87-4ff3-b2cd-f5457395e2c7"
      },
      "source": [
        "p = Polygon(\"rge\",0)\n",
        "p"
      ],
      "execution_count": 14,
      "outputs": [
        {
          "output_type": "execute_result",
          "data": {
            "application/vnd.google.colaboratory.intrinsic+json": {
              "type": "string"
            },
            "text/plain": [
              "'Error: Incorrect Parameter types'"
            ]
          },
          "metadata": {
            "tags": []
          },
          "execution_count": 14
        }
      ]
    },
    {
      "cell_type": "markdown",
      "metadata": {
        "id": "HFwFPm6Czhi7"
      },
      "source": [
        "# **Polygon Sequence Class**"
      ]
    },
    {
      "cell_type": "code",
      "metadata": {
        "id": "p2PnAC92Ytsq"
      },
      "source": [
        "@validate_type(int)\n",
        "@validate_params\n",
        "class Polygon_sequence:\n",
        "\n",
        "    def __init__(self,n,circumradius):\n",
        "        \"\"\" This function initializes the number of polygons and circum radius. \"\"\"\n",
        "\n",
        "        self.n = n\n",
        "        self.circumradius = circumradius\n",
        "\n",
        "    @lru_cache(maxsize=2**10)\n",
        "    def get_polygon(self,vertex , circumradius):\n",
        "        \"\"\" This function returns the properties of the polygon such as vertex , circumradius, interior angle, edge length , apothem, area, perimeter as a named tuple.\n",
        "        \"\"\"\n",
        "\n",
        "        polygon = Polygon(vertex, circumradius)\n",
        "        interiorAngle = polygon.interiorAngle\n",
        "        edgeLength  = polygon.edgeLength\n",
        "        apothem = polygon.apothem\n",
        "        area = polygon.area    \n",
        "        perimeter = polygon.perimeter\n",
        "\n",
        "        prop_names = ('vertex' , 'circumradius', 'interiorAngle', 'edgeLength' , 'apothem', 'area', 'perimeter')\n",
        "        properties = namedtuple('Polygon', prop_names)\n",
        "\n",
        "        # print(f'Calculating for Polygon with Vertex:{vertex} , CircumRadius: {circumradius}')\n",
        "\n",
        "        return properties(vertex , circumradius, interiorAngle, edgeLength , apothem, area, perimeter)\n",
        "            \n",
        "\n",
        "    def max_efficiency(self):\n",
        "        \"\"\" This function returns the maximum efficiency polygon.\n",
        "            Here, a maximum efficiency polygon is one that has the highest area to perimeter ratio. \n",
        "        \"\"\"\n",
        "        \n",
        "        ratios = []       \n",
        "        \n",
        "        for i in range(3, self.n+1):\n",
        "            \"\"\" This function \"\"\"\n",
        "\n",
        "            p = self.get_polygon( i , self.circumradius)\n",
        "            ratios.append(p.area/p.perimeter)\n",
        "            # print(ratios)\n",
        "        max_index = max(range(len(ratios)), key=ratios.__getitem__)\n",
        "        # print(ratios)\n",
        "\n",
        "        print(f'Polygon with {max_index+3} vertices has the Max Efficiency of {ratios[max_index]}')\n",
        "    \n",
        "    \n",
        "    def __getitem__(self,vertex):\n",
        "        \"\"\" This function returns the properties of the polygon whose vertices are as passed in the arguments. \n",
        "            It returns 'Not a polygon' message if the number of vertices is less than 3.\n",
        "        \"\"\"\n",
        "\n",
        "        if isinstance(vertex,int)==False:\n",
        "            return 'Error: Incorrect type for parameter '\n",
        "        elif vertex <3 :\n",
        "            return 'Error: This is not a polygon'\n",
        "        else:\n",
        "            return self.get_polygon( vertex , self.circumradius)\n",
        "        \n",
        "    \n",
        "    def __repr__(self):\n",
        "        \"\"\" This function gives the details of the Polygon Sequence object\"\"\"\n",
        "\n",
        "        return f\"\"\" Contains {self.n} polygons with a circum radius of {self.circumradius} and vertices ranging from 3 to {self.n}\"\"\"\n",
        "    \n",
        "    def __len__(self):\n",
        "        \"\"\" This function gives the length of the Polygon Sequence object \"\"\"\n",
        "\n",
        "        return self.n\n",
        "\n"
      ],
      "execution_count": 15,
      "outputs": []
    },
    {
      "cell_type": "code",
      "metadata": {
        "colab": {
          "base_uri": "https://localhost:8080/",
          "height": 35
        },
        "id": "XrEDL1wMCntB",
        "outputId": "0244dfbf-4d92-4b5d-bc08-6b25f3fad37e"
      },
      "source": [
        "a = Polygon_sequence(5,\"0\")\n",
        "a"
      ],
      "execution_count": 16,
      "outputs": [
        {
          "output_type": "execute_result",
          "data": {
            "application/vnd.google.colaboratory.intrinsic+json": {
              "type": "string"
            },
            "text/plain": [
              "'Error: Incorrect Parameter types'"
            ]
          },
          "metadata": {
            "tags": []
          },
          "execution_count": 16
        }
      ]
    },
    {
      "cell_type": "code",
      "metadata": {
        "colab": {
          "base_uri": "https://localhost:8080/",
          "height": 35
        },
        "id": "4_zvCudUkKCq",
        "outputId": "956fffde-c892-431e-c864-c466910504f1"
      },
      "source": [
        "a = Polygon_sequence(5,0)\n",
        "a"
      ],
      "execution_count": 17,
      "outputs": [
        {
          "output_type": "execute_result",
          "data": {
            "application/vnd.google.colaboratory.intrinsic+json": {
              "type": "string"
            },
            "text/plain": [
              "'Error: Incorrect parameters for Class'"
            ]
          },
          "metadata": {
            "tags": []
          },
          "execution_count": 17
        }
      ]
    },
    {
      "cell_type": "code",
      "metadata": {
        "id": "GuRKrf2ce605",
        "colab": {
          "base_uri": "https://localhost:8080/"
        },
        "outputId": "56d520ab-f1aa-48a6-e525-45cbed963a5c"
      },
      "source": [
        "a = Polygon_sequence(5,3)\n",
        "a"
      ],
      "execution_count": 18,
      "outputs": [
        {
          "output_type": "execute_result",
          "data": {
            "text/plain": [
              " Contains 5 polygons with a circum radius of 3 and vertices ranging from 3 to 5"
            ]
          },
          "metadata": {
            "tags": []
          },
          "execution_count": 18
        }
      ]
    },
    {
      "cell_type": "code",
      "metadata": {
        "colab": {
          "base_uri": "https://localhost:8080/"
        },
        "id": "3-aCeMN9V9s2",
        "outputId": "ac138508-8dcd-4efa-c9a1-989a3c04d607"
      },
      "source": [
        "len(a)"
      ],
      "execution_count": 19,
      "outputs": [
        {
          "output_type": "execute_result",
          "data": {
            "text/plain": [
              "5"
            ]
          },
          "metadata": {
            "tags": []
          },
          "execution_count": 19
        }
      ]
    },
    {
      "cell_type": "code",
      "metadata": {
        "colab": {
          "base_uri": "https://localhost:8080/",
          "height": 35
        },
        "id": "njBvV5IyhHU9",
        "outputId": "9f7fa33c-725c-4adc-dc52-ec65749e73e0"
      },
      "source": [
        "a[2]"
      ],
      "execution_count": 20,
      "outputs": [
        {
          "output_type": "execute_result",
          "data": {
            "application/vnd.google.colaboratory.intrinsic+json": {
              "type": "string"
            },
            "text/plain": [
              "'Error: This is not a polygon'"
            ]
          },
          "metadata": {
            "tags": []
          },
          "execution_count": 20
        }
      ]
    },
    {
      "cell_type": "code",
      "metadata": {
        "colab": {
          "base_uri": "https://localhost:8080/",
          "height": 35
        },
        "id": "IETEUkm8EtvH",
        "outputId": "9034fd6b-8971-4a76-a555-bd09dae5bef5"
      },
      "source": [
        "a[{'oj':1}]"
      ],
      "execution_count": 21,
      "outputs": [
        {
          "output_type": "execute_result",
          "data": {
            "application/vnd.google.colaboratory.intrinsic+json": {
              "type": "string"
            },
            "text/plain": [
              "'Error: Incorrect type for parameter '"
            ]
          },
          "metadata": {
            "tags": []
          },
          "execution_count": 21
        }
      ]
    },
    {
      "cell_type": "code",
      "metadata": {
        "colab": {
          "base_uri": "https://localhost:8080/"
        },
        "id": "SvdEMdlccLAf",
        "outputId": "c121b6ce-60d9-4860-c384-f44ea9c365a9"
      },
      "source": [
        "print(a[3])\n",
        "print(a[4])\n",
        "print(a[5])"
      ],
      "execution_count": 22,
      "outputs": [
        {
          "output_type": "stream",
          "text": [
            "Polygon(vertex=3, circumradius=3, interiorAngle=60.0, edgeLength=5.196152422706632, apothem=1.5000000000000004, area=11.691342951089926, perimeter=15.588457268119896)\n",
            "Polygon(vertex=4, circumradius=3, interiorAngle=90.0, edgeLength=4.242640687119285, apothem=2.121320343559643, area=18.0, perimeter=16.97056274847714)\n",
            "Polygon(vertex=5, circumradius=3, interiorAngle=108.0, edgeLength=3.526711513754839, apothem=2.4270509831248424, area=21.398771616640957, perimeter=17.633557568774194)\n"
          ],
          "name": "stdout"
        }
      ]
    },
    {
      "cell_type": "code",
      "metadata": {
        "colab": {
          "base_uri": "https://localhost:8080/"
        },
        "id": "8qTb1fjGFwSo",
        "outputId": "502fa17c-f047-4d2a-f744-4220e2e97a18"
      },
      "source": [
        "type(a)"
      ],
      "execution_count": 23,
      "outputs": [
        {
          "output_type": "execute_result",
          "data": {
            "text/plain": [
              "__main__.Polygon_sequence"
            ]
          },
          "metadata": {
            "tags": []
          },
          "execution_count": 23
        }
      ]
    },
    {
      "cell_type": "code",
      "metadata": {
        "colab": {
          "base_uri": "https://localhost:8080/"
        },
        "id": "jDzKMUmXIieo",
        "outputId": "4ab94119-238b-423f-d66d-805b0dd2d5af"
      },
      "source": [
        "a[4].area"
      ],
      "execution_count": 24,
      "outputs": [
        {
          "output_type": "execute_result",
          "data": {
            "text/plain": [
              "18.0"
            ]
          },
          "metadata": {
            "tags": []
          },
          "execution_count": 24
        }
      ]
    },
    {
      "cell_type": "code",
      "metadata": {
        "colab": {
          "base_uri": "https://localhost:8080/"
        },
        "id": "3WUdO6UMIqQn",
        "outputId": "2543672f-20fa-4b5c-8d5d-f90107792389"
      },
      "source": [
        "a.max_efficiency()"
      ],
      "execution_count": 25,
      "outputs": [
        {
          "output_type": "stream",
          "text": [
            "Polygon with 5 vertices has the Max Efficiency of 1.2135254915624212\n"
          ],
          "name": "stdout"
        }
      ]
    },
    {
      "cell_type": "code",
      "metadata": {
        "id": "oxeiWLsAIol9"
      },
      "source": [
        "p = Polygon_sequence(25,5)"
      ],
      "execution_count": 26,
      "outputs": []
    },
    {
      "cell_type": "code",
      "metadata": {
        "colab": {
          "base_uri": "https://localhost:8080/"
        },
        "id": "Q2Ome-wgAJNd",
        "outputId": "48e6d4ab-e25b-4d6d-c42a-4b848ea8b5fb"
      },
      "source": [
        "p.max_efficiency()"
      ],
      "execution_count": 27,
      "outputs": [
        {
          "output_type": "stream",
          "text": [
            "Polygon with 25 vertices has the Max Efficiency of 2.4802867532861947\n"
          ],
          "name": "stdout"
        }
      ]
    }
  ]
}